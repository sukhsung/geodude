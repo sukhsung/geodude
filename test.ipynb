{
 "cells": [
  {
   "cell_type": "code",
   "execution_count": 16,
   "metadata": {},
   "outputs": [],
   "source": [
    "import serial\n",
    "%load_ext autoreload\n",
    "%autoreload 2"
   ]
  },
  {
   "cell_type": "code",
   "execution_count": 189,
   "metadata": {},
   "outputs": [
    {
     "name": "stdout",
     "output_type": "stream",
     "text": [
      "Loading Configuration File\n",
      "Sampling: 400\n",
      "Found 8 ADC Settings\n",
      "Gain: 128, Polarity: 1, Buffer: u\n",
      "Gain: 128, Polarity: 1, Buffer: u\n",
      "Gain: 128, Polarity: 1, Buffer: u\n",
      "Gain: 128, Polarity: 1, Buffer: u\n",
      "Gain: 64, Polarity: 2, Buffer: b\n",
      "Gain: 32, Polarity: 2, Buffer: b\n",
      "Gain: 1, Polarity: 2, Buffer: b\n",
      "Gain: 1, Polarity: 2, Buffer: b\n",
      "Acquisition Time (s): 5\n",
      "Cron schedule: * * * * *\n",
      "Prepping Folder Structure\n",
      "Managing Crontab\n",
      " All Set!\n"
     ]
    },
    {
     "data": {
      "text/plain": [
       "<auto_runner.governer at 0x1276353f0>"
      ]
     },
     "execution_count": 189,
     "metadata": {},
     "output_type": "execute_result"
    }
   ],
   "source": [
    "auto_runner.governer(dev=True)"
   ]
  },
  {
   "cell_type": "code",
   "execution_count": 181,
   "metadata": {},
   "outputs": [
    {
     "name": "stdout",
     "output_type": "stream",
     "text": [
      "Loading Configuration File\n",
      "Sampling: 400\n",
      "Found 8 ADC Settings\n",
      "Gain: 128, Polarity: 1, Buffer: u\n",
      "Gain: 128, Polarity: 1, Buffer: u\n",
      "Gain: 128, Polarity: 1, Buffer: u\n",
      "Gain: 128, Polarity: 1, Buffer: u\n",
      "Gain: 64, Polarity: 2, Buffer: b\n",
      "Gain: 32, Polarity: 2, Buffer: b\n",
      "Gain: 1, Polarity: 2, Buffer: b\n",
      "Gain: 1, Polarity: 2, Buffer: b\n",
      "Acquisition Time (s): 5\n",
      "Cron schedule: * * * * *\n",
      "Prepping Folder Structure\n",
      "Connecting to Serial Device\n",
      "\n",
      "Current settings:  Sampling rate 400.00\n",
      "Extra on-board channel-4 input disabled\n",
      "ADC 1: gain 128, unipolar, unbuffered\n",
      "ADC 2: gain 128, unipolar, unbuffered\n",
      "ADC 3: gain 128, unipolar, unbuffered\n",
      "ADC 4: gain 128, unipolar, unbuffered\n",
      "ADC 5: gain 64, bipolar, buffered\n",
      "ADC 6: gain 32, bipolar, buffered\n",
      "ADC 7: gain 1, bipolar, buffered\n",
      "ADC 8: gain 1, bipolar, buffered\n",
      "DAC output voltage set to 0 mV\n",
      "Vc bias setting: 1   EnSP setting: 0\n",
      "dbC: 1  USBon: 1  Vbat: 4298 mV  Boff: 1\n",
      "\n",
      "Managing Crontab\n",
      " All Set!\n"
     ]
    }
   ],
   "source": [
    "import auto_runner\n",
    "\n",
    "g = auto_runner.geodude(dev=True)\n",
    "# g.start_acquire()\n",
    "g.close()\n"
   ]
  },
  {
   "cell_type": "code",
   "execution_count": 188,
   "metadata": {},
   "outputs": [
    {
     "name": "stdout",
     "output_type": "stream",
     "text": [
      "Loading Configuration File\n",
      "Sampling: 400\n",
      "Found 8 ADC Settings\n",
      "Gain: 128, Polarity: 1, Buffer: u\n",
      "Gain: 128, Polarity: 1, Buffer: u\n",
      "Gain: 128, Polarity: 1, Buffer: u\n",
      "Gain: 128, Polarity: 1, Buffer: u\n",
      "Gain: 64, Polarity: 2, Buffer: b\n",
      "Gain: 32, Polarity: 2, Buffer: b\n",
      "Gain: 1, Polarity: 2, Buffer: b\n",
      "Gain: 1, Polarity: 2, Buffer: b\n",
      "Acquisition Time (s): 5\n",
      "Cron schedule: * * * * *\n",
      "Prepping Folder Structure\n",
      "Connecting to Serial Device\n",
      "\n",
      "Current settings:  Sampling rate 400.00\n",
      "Extra on-board channel-4 input disabled\n",
      "ADC 1: gain 128, unipolar, unbuffered\n",
      "ADC 2: gain 128, unipolar, unbuffered\n",
      "ADC 3: gain 128, unipolar, unbuffered\n",
      "ADC 4: gain 128, unipolar, unbuffered\n",
      "ADC 5: gain 64, bipolar, buffered\n",
      "ADC 6: gain 32, bipolar, buffered\n",
      "ADC 7: gain 1, bipolar, buffered\n",
      "ADC 8: gain 1, bipolar, buffered\n",
      "DAC output voltage set to 0 mV\n",
      "Vc bias setting: 1   EnSP setting: 0\n",
      "dbC: 1  USBon: 1  Vbat: 4294 mV  Boff: 1\n",
      "\n",
      "Start acquiring for 5 s\n",
      "Saving to ./media/raspberry/drive/results/2025-2-12/23:49:10.csv\n",
      "0\n",
      "1\n",
      "2\n",
      "3\n",
      "4\n",
      "5\n",
      "End of data\n"
     ]
    }
   ],
   "source": [
    "import auto_runner\n",
    "\n",
    "g = auto_runner.geodude(dev=True)\n",
    "g.start_acquire()\n",
    "g.close()"
   ]
  },
  {
   "cell_type": "code",
   "execution_count": 176,
   "metadata": {},
   "outputs": [],
   "source": [
    "# from crontab import CronTab\n",
    "cron = CronTab(user=True)\n",
    "job = cron.new(command='echo Geodude', comment='Geophone')\n",
    "# # job.minute.on(0)\n",
    "# # job.hour.every(1)\n",
    "# # cron.write()\n",
    "# job.setall('*/1 * * * *')\n",
    "# job.enable\n",
    "cron.write()\n",
    "# job.setall('@hourly')"
   ]
  },
  {
   "cell_type": "code",
   "execution_count": 149,
   "metadata": {},
   "outputs": [
    {
     "data": {
      "text/plain": [
       "True"
      ]
     },
     "execution_count": 149,
     "metadata": {},
     "output_type": "execute_result"
    }
   ],
   "source": [
    "job.is_enabled()"
   ]
  },
  {
   "cell_type": "code",
   "execution_count": 182,
   "metadata": {},
   "outputs": [],
   "source": [
    "\n",
    "cron = CronTab(user=True)\n",
    "cron.remove_all(comment='Geophone')\n",
    "cron.write()"
   ]
  },
  {
   "cell_type": "code",
   "execution_count": 164,
   "metadata": {},
   "outputs": [
    {
     "name": "stdout",
     "output_type": "stream",
     "text": [
      "* * * * * echo Geodude # Geophone\n",
      "* * * * * echo Geodude # Geophone\n",
      "* * * * * echo Geodude # Geophone\n"
     ]
    }
   ],
   "source": [
    "jobs = cron.find_comment('Geophone')\n",
    "for job in jobs:\n",
    "    print( job )\n",
    "# cron.remove( job )"
   ]
  },
  {
   "cell_type": "code",
   "execution_count": 166,
   "metadata": {},
   "outputs": [],
   "source": [
    "for job in cron:\n",
    "    print(job)\n",
    "    cron.remove( job )"
   ]
  }
 ],
 "metadata": {
  "kernelspec": {
   "display_name": "geophone_headless",
   "language": "python",
   "name": "python3"
  },
  "language_info": {
   "codemirror_mode": {
    "name": "ipython",
    "version": 3
   },
   "file_extension": ".py",
   "mimetype": "text/x-python",
   "name": "python",
   "nbconvert_exporter": "python",
   "pygments_lexer": "ipython3",
   "version": "3.10.16"
  }
 },
 "nbformat": 4,
 "nbformat_minor": 2
}
